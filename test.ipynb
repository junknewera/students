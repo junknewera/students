{
 "cells": [
  {
   "cell_type": "code",
   "execution_count": 8,
   "id": "f9b7caa2",
   "metadata": {},
   "outputs": [],
   "source": [
    "import pandas as pd\n",
    "from scripts.preprocess import preprocess_data\n",
    "df = pd.read_csv(\"data/raw/student_data.csv\")\n",
    "train_df, test_df, ohe = preprocess_data(df)"
   ]
  },
  {
   "cell_type": "code",
   "execution_count": 9,
   "id": "25afcd58",
   "metadata": {},
   "outputs": [
    {
     "data": {
      "text/html": [
       "<div>\n",
       "<style scoped>\n",
       "    .dataframe tbody tr th:only-of-type {\n",
       "        vertical-align: middle;\n",
       "    }\n",
       "\n",
       "    .dataframe tbody tr th {\n",
       "        vertical-align: top;\n",
       "    }\n",
       "\n",
       "    .dataframe thead th {\n",
       "        text-align: right;\n",
       "    }\n",
       "</style>\n",
       "<table border=\"1\" class=\"dataframe\">\n",
       "  <thead>\n",
       "    <tr style=\"text-align: right;\">\n",
       "      <th></th>\n",
       "      <th>student_id</th>\n",
       "      <th>semester</th>\n",
       "      <th>age</th>\n",
       "      <th>online_activity</th>\n",
       "      <th>assignments_completed</th>\n",
       "      <th>grades</th>\n",
       "      <th>forum_participation</th>\n",
       "      <th>churn</th>\n",
       "      <th>activity_trend</th>\n",
       "      <th>assignments_trend</th>\n",
       "      <th>...</th>\n",
       "      <th>low_activity_flag</th>\n",
       "      <th>region_Москва</th>\n",
       "      <th>region_СПб</th>\n",
       "      <th>region_Сибирь</th>\n",
       "      <th>region_Урал</th>\n",
       "      <th>region_Юг</th>\n",
       "      <th>faculty_Информатика</th>\n",
       "      <th>faculty_Лингвистика</th>\n",
       "      <th>faculty_Экономика</th>\n",
       "      <th>faculty_Юриспруденция</th>\n",
       "    </tr>\n",
       "  </thead>\n",
       "  <tbody>\n",
       "    <tr>\n",
       "      <th>4</th>\n",
       "      <td>2</td>\n",
       "      <td>1</td>\n",
       "      <td>19</td>\n",
       "      <td>60.996192</td>\n",
       "      <td>89.474398</td>\n",
       "      <td>3.578805</td>\n",
       "      <td>2</td>\n",
       "      <td>0</td>\n",
       "      <td>0.000000</td>\n",
       "      <td>0.000000</td>\n",
       "      <td>...</td>\n",
       "      <td>0</td>\n",
       "      <td>0.0</td>\n",
       "      <td>0.0</td>\n",
       "      <td>1.0</td>\n",
       "      <td>0.0</td>\n",
       "      <td>0.0</td>\n",
       "      <td>0.0</td>\n",
       "      <td>0.0</td>\n",
       "      <td>0.0</td>\n",
       "      <td>1.0</td>\n",
       "    </tr>\n",
       "    <tr>\n",
       "      <th>5</th>\n",
       "      <td>2</td>\n",
       "      <td>2</td>\n",
       "      <td>25</td>\n",
       "      <td>97.784173</td>\n",
       "      <td>77.705495</td>\n",
       "      <td>4.272544</td>\n",
       "      <td>3</td>\n",
       "      <td>0</td>\n",
       "      <td>36.787981</td>\n",
       "      <td>-11.768903</td>\n",
       "      <td>...</td>\n",
       "      <td>0</td>\n",
       "      <td>0.0</td>\n",
       "      <td>0.0</td>\n",
       "      <td>1.0</td>\n",
       "      <td>0.0</td>\n",
       "      <td>0.0</td>\n",
       "      <td>0.0</td>\n",
       "      <td>0.0</td>\n",
       "      <td>0.0</td>\n",
       "      <td>1.0</td>\n",
       "    </tr>\n",
       "    <tr>\n",
       "      <th>6</th>\n",
       "      <td>2</td>\n",
       "      <td>3</td>\n",
       "      <td>21</td>\n",
       "      <td>37.324986</td>\n",
       "      <td>69.561036</td>\n",
       "      <td>4.516927</td>\n",
       "      <td>1</td>\n",
       "      <td>0</td>\n",
       "      <td>-60.459186</td>\n",
       "      <td>-8.144460</td>\n",
       "      <td>...</td>\n",
       "      <td>0</td>\n",
       "      <td>0.0</td>\n",
       "      <td>0.0</td>\n",
       "      <td>1.0</td>\n",
       "      <td>0.0</td>\n",
       "      <td>0.0</td>\n",
       "      <td>0.0</td>\n",
       "      <td>0.0</td>\n",
       "      <td>0.0</td>\n",
       "      <td>1.0</td>\n",
       "    </tr>\n",
       "    <tr>\n",
       "      <th>7</th>\n",
       "      <td>2</td>\n",
       "      <td>4</td>\n",
       "      <td>32</td>\n",
       "      <td>31.713683</td>\n",
       "      <td>24.863720</td>\n",
       "      <td>2.891694</td>\n",
       "      <td>3</td>\n",
       "      <td>1</td>\n",
       "      <td>-5.611303</td>\n",
       "      <td>-44.697316</td>\n",
       "      <td>...</td>\n",
       "      <td>1</td>\n",
       "      <td>0.0</td>\n",
       "      <td>0.0</td>\n",
       "      <td>1.0</td>\n",
       "      <td>0.0</td>\n",
       "      <td>0.0</td>\n",
       "      <td>0.0</td>\n",
       "      <td>0.0</td>\n",
       "      <td>0.0</td>\n",
       "      <td>1.0</td>\n",
       "    </tr>\n",
       "    <tr>\n",
       "      <th>8</th>\n",
       "      <td>3</td>\n",
       "      <td>1</td>\n",
       "      <td>24</td>\n",
       "      <td>57.348701</td>\n",
       "      <td>74.866746</td>\n",
       "      <td>2.687026</td>\n",
       "      <td>1</td>\n",
       "      <td>0</td>\n",
       "      <td>0.000000</td>\n",
       "      <td>0.000000</td>\n",
       "      <td>...</td>\n",
       "      <td>0</td>\n",
       "      <td>1.0</td>\n",
       "      <td>0.0</td>\n",
       "      <td>0.0</td>\n",
       "      <td>0.0</td>\n",
       "      <td>0.0</td>\n",
       "      <td>0.0</td>\n",
       "      <td>0.0</td>\n",
       "      <td>0.0</td>\n",
       "      <td>1.0</td>\n",
       "    </tr>\n",
       "  </tbody>\n",
       "</table>\n",
       "<p>5 rows × 22 columns</p>\n",
       "</div>"
      ],
      "text/plain": [
       "   student_id  semester  age  online_activity  assignments_completed  \\\n",
       "4           2         1   19        60.996192              89.474398   \n",
       "5           2         2   25        97.784173              77.705495   \n",
       "6           2         3   21        37.324986              69.561036   \n",
       "7           2         4   32        31.713683              24.863720   \n",
       "8           3         1   24        57.348701              74.866746   \n",
       "\n",
       "     grades  forum_participation  churn  activity_trend  assignments_trend  \\\n",
       "4  3.578805                    2      0        0.000000           0.000000   \n",
       "5  4.272544                    3      0       36.787981         -11.768903   \n",
       "6  4.516927                    1      0      -60.459186          -8.144460   \n",
       "7  2.891694                    3      1       -5.611303         -44.697316   \n",
       "8  2.687026                    1      0        0.000000           0.000000   \n",
       "\n",
       "   ...  low_activity_flag  region_Москва  region_СПб  region_Сибирь  \\\n",
       "4  ...                  0            0.0         0.0            1.0   \n",
       "5  ...                  0            0.0         0.0            1.0   \n",
       "6  ...                  0            0.0         0.0            1.0   \n",
       "7  ...                  1            0.0         0.0            1.0   \n",
       "8  ...                  0            1.0         0.0            0.0   \n",
       "\n",
       "   region_Урал  region_Юг  faculty_Информатика  faculty_Лингвистика  \\\n",
       "4          0.0        0.0                  0.0                  0.0   \n",
       "5          0.0        0.0                  0.0                  0.0   \n",
       "6          0.0        0.0                  0.0                  0.0   \n",
       "7          0.0        0.0                  0.0                  0.0   \n",
       "8          0.0        0.0                  0.0                  0.0   \n",
       "\n",
       "   faculty_Экономика  faculty_Юриспруденция  \n",
       "4                0.0                    1.0  \n",
       "5                0.0                    1.0  \n",
       "6                0.0                    1.0  \n",
       "7                0.0                    1.0  \n",
       "8                0.0                    1.0  \n",
       "\n",
       "[5 rows x 22 columns]"
      ]
     },
     "execution_count": 9,
     "metadata": {},
     "output_type": "execute_result"
    }
   ],
   "source": [
    "train_df.head()"
   ]
  },
  {
   "cell_type": "code",
   "execution_count": 23,
   "id": "9d637030",
   "metadata": {},
   "outputs": [],
   "source": [
    "from imblearn.over_sampling import SMOTE\n",
    "\n",
    "smote = SMOTE(random_state=42)\n",
    "\n",
    "X_train, y_train = train_df.drop(columns=['churn']), train_df['churn']\n",
    "X_train_resampled, y_train_resampled = smote.fit_resample(X_train, y_train)\n",
    "train_data = pd.concat([X_train_resampled, y_train_resampled], axis=1)"
   ]
  },
  {
   "cell_type": "code",
   "execution_count": 17,
   "id": "e464b716",
   "metadata": {},
   "outputs": [
    {
     "name": "stdout",
     "output_type": "stream",
     "text": [
      "'nlp' extra dependency package 'gensim' isn't installed. Look at README.md in repo 'LightAutoML' for installation instructions.\n",
      "'nlp' extra dependency package 'nltk' isn't installed. Look at README.md in repo 'LightAutoML' for installation instructions.\n",
      "'nlp' extra dependency package 'transformers' isn't installed. Look at README.md in repo 'LightAutoML' for installation instructions.\n",
      "'nlp' extra dependency package 'gensim' isn't installed. Look at README.md in repo 'LightAutoML' for installation instructions.\n",
      "'nlp' extra dependency package 'nltk' isn't installed. Look at README.md in repo 'LightAutoML' for installation instructions.\n",
      "'nlp' extra dependency package 'transformers' isn't installed. Look at README.md in repo 'LightAutoML' for installation instructions.\n"
     ]
    },
    {
     "name": "stderr",
     "output_type": "stream",
     "text": [
      "/home/junknewera/workspace/machine-learning/projects/digital-economics-league/students/env/lib/python3.12/site-packages/tqdm/auto.py:21: TqdmWarning: IProgress not found. Please update jupyter and ipywidgets. See https://ipywidgets.readthedocs.io/en/stable/user_install.html\n",
      "  from .autonotebook import tqdm as notebook_tqdm\n",
      "/home/junknewera/workspace/machine-learning/projects/digital-economics-league/students/env/lib/python3.12/site-packages/lightautoml/ml_algo/dl_model.py:42: UserWarning: 'transformers' - package isn't installed\n",
      "  warnings.warn(\"'transformers' - package isn't installed\")\n",
      "/home/junknewera/workspace/machine-learning/projects/digital-economics-league/students/env/lib/python3.12/site-packages/lightautoml/text/embed.py:22: UserWarning: 'transformers' - package isn't installed\n",
      "  warnings.warn(\"'transformers' - package isn't installed\")\n",
      "/home/junknewera/workspace/machine-learning/projects/digital-economics-league/students/env/lib/python3.12/site-packages/lightautoml/text/dl_transformers.py:25: UserWarning: 'transformers' - package isn't installed\n",
      "  warnings.warn(\"'transformers' - package isn't installed\")\n"
     ]
    }
   ],
   "source": [
    "from lightautoml.automl.presets.tabular_presets import TabularAutoML\n",
    "from lightautoml.tasks import Task\n",
    "\n",
    "RANDOM_STATE = 42\n",
    "N_THREADS = 4\n",
    "N_FOLDS = 5\n",
    "TARGET_NAME = 'churn'\n",
    "TIMEOUT = 300"
   ]
  },
  {
   "cell_type": "code",
   "execution_count": 19,
   "id": "5e1be72d",
   "metadata": {},
   "outputs": [],
   "source": [
    "import torch\n",
    "import numpy as np\n",
    "\n",
    "np.random.seed(RANDOM_STATE)\n",
    "torch.set_num_threads(N_THREADS)\n"
   ]
  },
  {
   "cell_type": "code",
   "execution_count": null,
   "id": "f72e6f0a",
   "metadata": {},
   "outputs": [],
   "source": [
    "task = Task('binary', metric='auc')\n",
    "roles = {\n",
    "    'target': TARGET_NAME,\n",
    "    'drop': ['student_id']\n",
    "}"
   ]
  },
  {
   "cell_type": "code",
   "execution_count": 22,
   "id": "c66622ac",
   "metadata": {},
   "outputs": [],
   "source": [
    "automl = TabularAutoML(\n",
    "    task = task,\n",
    "    timeout = TIMEOUT,\n",
    "    cpu_limit = N_THREADS,\n",
    "    reader_params = {'n_jobs': N_THREADS, 'cv': N_FOLDS, 'random_state': RANDOM_STATE},\n",
    ")"
   ]
  },
  {
   "cell_type": "code",
   "execution_count": null,
   "id": "3882e24c",
   "metadata": {},
   "outputs": [
    {
     "name": "stdout",
     "output_type": "stream",
     "text": [
      "[16:07:08] Stdout logging level is INFO.\n",
      "[16:07:08] Copying TaskTimer may affect the parent PipelineTimer, so copy will create new unlimited TaskTimer\n",
      "[16:07:08] Task: binary\n",
      "\n",
      "[16:07:08] Start automl preset with listed constraints:\n",
      "[16:07:08] - time: 300.00 seconds\n",
      "[16:07:08] - CPU: 4 cores\n",
      "[16:07:08] - memory: 16 GB\n",
      "\n",
      "[16:07:08] \u001b[1mTrain data shape: (204038, 22)\u001b[0m\n",
      "\n",
      "[16:07:11] Layer \u001b[1m1\u001b[0m train process start. Time left 296.53 secs\n",
      "[16:07:18] Start fitting \u001b[1mLvl_0_Pipe_0_Mod_0_LinearL2\u001b[0m ...\n",
      "[16:07:26] Fitting \u001b[1mLvl_0_Pipe_0_Mod_0_LinearL2\u001b[0m finished. score = \u001b[1m0.9999833539529112\u001b[0m\n",
      "[16:07:26] \u001b[1mLvl_0_Pipe_0_Mod_0_LinearL2\u001b[0m fitting and predicting completed\n",
      "[16:07:26] Time left 282.12 secs\n",
      "\n",
      "[16:07:31] \u001b[1mSelector_LightGBM\u001b[0m fitting and predicting completed\n",
      "[16:07:38] Start fitting \u001b[1mLvl_0_Pipe_1_Mod_0_LightGBM\u001b[0m ...\n",
      "[16:07:53] Fitting \u001b[1mLvl_0_Pipe_1_Mod_0_LightGBM\u001b[0m finished. score = \u001b[1m0.9999496942525218\u001b[0m\n",
      "[16:07:53] \u001b[1mLvl_0_Pipe_1_Mod_0_LightGBM\u001b[0m fitting and predicting completed\n",
      "[16:07:53] Start hyperparameters optimization for \u001b[1mLvl_0_Pipe_1_Mod_1_Tuned_LightGBM\u001b[0m ... Time budget is 7.81 secs\n"
     ]
    },
    {
     "name": "stderr",
     "output_type": "stream",
     "text": [
      "Optimization Progress:   3%|▎         | 3/101 [00:13<07:10,  4.39s/it, best_trial=0, best_value=1]"
     ]
    },
    {
     "name": "stdout",
     "output_type": "stream",
     "text": [
      "[16:08:06] Hyperparameters optimization for \u001b[1mLvl_0_Pipe_1_Mod_1_Tuned_LightGBM\u001b[0m completed\n",
      "[16:08:06] Start fitting \u001b[1mLvl_0_Pipe_1_Mod_1_Tuned_LightGBM\u001b[0m ...\n"
     ]
    },
    {
     "name": "stderr",
     "output_type": "stream",
     "text": [
      "\n"
     ]
    },
    {
     "name": "stdout",
     "output_type": "stream",
     "text": [
      "[16:08:23] Fitting \u001b[1mLvl_0_Pipe_1_Mod_1_Tuned_LightGBM\u001b[0m finished. score = \u001b[1m0.9999802989108547\u001b[0m\n",
      "[16:08:23] \u001b[1mLvl_0_Pipe_1_Mod_1_Tuned_LightGBM\u001b[0m fitting and predicting completed\n",
      "[16:08:23] Start fitting \u001b[1mLvl_0_Pipe_1_Mod_2_CatBoost\u001b[0m ...\n",
      "[16:08:31] Fitting \u001b[1mLvl_0_Pipe_1_Mod_2_CatBoost\u001b[0m finished. score = \u001b[1m0.9999819790806987\u001b[0m\n",
      "[16:08:31] \u001b[1mLvl_0_Pipe_1_Mod_2_CatBoost\u001b[0m fitting and predicting completed\n",
      "[16:08:31] Start hyperparameters optimization for \u001b[1mLvl_0_Pipe_1_Mod_3_Tuned_CatBoost\u001b[0m ... Time budget is 108.31 secs\n"
     ]
    },
    {
     "name": "stderr",
     "output_type": "stream",
     "text": [
      "Optimization Progress:  83%|████████▎ | 84/101 [01:48<00:21,  1.29s/it, best_trial=56, best_value=1]"
     ]
    },
    {
     "name": "stdout",
     "output_type": "stream",
     "text": [
      "[16:10:20] Hyperparameters optimization for \u001b[1mLvl_0_Pipe_1_Mod_3_Tuned_CatBoost\u001b[0m completed\n",
      "[16:10:20] Start fitting \u001b[1mLvl_0_Pipe_1_Mod_3_Tuned_CatBoost\u001b[0m ...\n"
     ]
    },
    {
     "name": "stderr",
     "output_type": "stream",
     "text": [
      "\n"
     ]
    },
    {
     "name": "stdout",
     "output_type": "stream",
     "text": [
      "[16:10:29] Fitting \u001b[1mLvl_0_Pipe_1_Mod_3_Tuned_CatBoost\u001b[0m finished. score = \u001b[1m0.9999790859352617\u001b[0m\n",
      "[16:10:29] \u001b[1mLvl_0_Pipe_1_Mod_3_Tuned_CatBoost\u001b[0m fitting and predicting completed\n",
      "[16:10:29] Time left 99.44 secs\n",
      "\n",
      "[16:10:29] \u001b[1mLayer 1 training completed.\u001b[0m\n",
      "\n",
      "[16:10:29] Blending: optimization starts with equal weights. Score = \u001b[1m0.9999856\u001b[0m\n",
      "[16:10:30] Blending: iteration \u001b[1m0\u001b[0m: score = \u001b[1m0.9999858\u001b[0m, weights = \u001b[1m[0.08607593 0.31904927 0.1982916  0.1982916  0.1982916 ]\u001b[0m\n",
      "[16:10:31] Blending: no improvements for score. Terminated.\n",
      "\n",
      "[16:10:31] Blending: best score = \u001b[1m0.9999858\u001b[0m, best weights = \u001b[1m[0.08607593 0.31904927 0.1982916  0.1982916  0.1982916 ]\u001b[0m\n",
      "[16:10:31] \u001b[1mAutoml preset training completed in 203.07 seconds\u001b[0m\n",
      "\n",
      "[16:10:31] Model description:\n",
      "Final prediction for new objects (level 0) = \n",
      "\t 0.08608 * (5 averaged models Lvl_0_Pipe_0_Mod_0_LinearL2) +\n",
      "\t 0.31905 * (5 averaged models Lvl_0_Pipe_1_Mod_0_LightGBM) +\n",
      "\t 0.19829 * (5 averaged models Lvl_0_Pipe_1_Mod_1_Tuned_LightGBM) +\n",
      "\t 0.19829 * (5 averaged models Lvl_0_Pipe_1_Mod_2_CatBoost) +\n",
      "\t 0.19829 * (5 averaged models Lvl_0_Pipe_1_Mod_3_Tuned_CatBoost) \n",
      "\n"
     ]
    },
    {
     "name": "stderr",
     "output_type": "stream",
     "text": [
      "Exception ignored in: <function ResourceTracker.__del__ at 0x7feb895260c0>\n",
      "Traceback (most recent call last):\n",
      "  File \"/usr/lib/python3.12/multiprocessing/resource_tracker.py\", line 77, in __del__\n",
      "  File \"/usr/lib/python3.12/multiprocessing/resource_tracker.py\", line 86, in _stop\n",
      "  File \"/usr/lib/python3.12/multiprocessing/resource_tracker.py\", line 111, in _stop_locked\n",
      "ChildProcessError: [Errno 10] No child processes\n",
      "Exception ignored in: <function ResourceTracker.__del__ at 0x7f57954360c0>\n",
      "Traceback (most recent call last):\n",
      "  File \"/usr/lib/python3.12/multiprocessing/resource_tracker.py\", line 77, in __del__\n",
      "  File \"/usr/lib/python3.12/multiprocessing/resource_tracker.py\", line 86, in _stop\n",
      "  File \"/usr/lib/python3.12/multiprocessing/resource_tracker.py\", line 111, in _stop_locked\n",
      "ChildProcessError: [Errno 10] No child processes\n",
      "Exception ignored in: <function ResourceTracker.__del__ at 0x7f3517f220c0>\n",
      "Traceback (most recent call last):\n",
      "  File \"/usr/lib/python3.12/multiprocessing/resource_tracker.py\", line 77, in __del__\n",
      "  File \"/usr/lib/python3.12/multiprocessing/resource_tracker.py\", line 86, in _stop\n",
      "  File \"/usr/lib/python3.12/multiprocessing/resource_tracker.py\", line 111, in _stop_locked\n",
      "ChildProcessError: [Errno 10] No child processes\n",
      "Exception ignored in: <function ResourceTracker.__del__ at 0x7f27c911e0c0>\n",
      "Traceback (most recent call last):\n",
      "  File \"/usr/lib/python3.12/multiprocessing/resource_tracker.py\", line 77, in __del__\n",
      "  File \"/usr/lib/python3.12/multiprocessing/resource_tracker.py\", line 86, in _stop\n",
      "  File \"/usr/lib/python3.12/multiprocessing/resource_tracker.py\", line 111, in _stop_locked\n",
      "ChildProcessError: [Errno 10] No child processes\n"
     ]
    }
   ],
   "source": [
    "out_of_fold_predictions = automl.fit_predict(train_data, roles = roles, verbose = 1)\n"
   ]
  },
  {
   "cell_type": "code",
   "execution_count": 27,
   "id": "f3059efb",
   "metadata": {},
   "outputs": [],
   "source": [
    "test_predictions = automl.predict(test_df)"
   ]
  },
  {
   "cell_type": "code",
   "execution_count": 46,
   "id": "389a8568",
   "metadata": {},
   "outputs": [
    {
     "data": {
      "image/png": "[encoded data removed]",
      "text/plain": [
       "<Figure size 1000x600 with 1 Axes>"
      ]
     },
     "metadata": {},
     "output_type": "display_data"
    }
   ],
   "source": [
    "from sklearn.metrics import precision_recall_curve, auc\n",
    "import matplotlib.pyplot as plt\n",
    "\n",
    "# Calculate precision-recall curve\n",
    "precisions, recalls, thresholds = precision_recall_curve(test_df['churn'], test_predictions.data[:, 0])\n",
    "pr_auc = auc(recalls, precisions)\n",
    "\n",
    "# Create the plot\n",
    "plt.figure(figsize=(10, 6))\n",
    "plt.plot(recalls, precisions, label=f'PR-AUC = {pr_auc:.3f}')\n",
    "plt.xlabel('Recall')\n",
    "plt.ylabel('Precision')\n",
    "plt.title('Precision-Recall Curve')\n",
    "plt.legend()\n",
    "plt.grid(True)\n",
    "plt.show()"
   ]
  },
  {
   "cell_type": "code",
   "execution_count": 47,
   "id": "94ad40e2",
   "metadata": {},
   "outputs": [
    {
     "data": {
      "image/png": "[encoded data removed]",
      "text/plain": [
       "<Figure size 1000x600 with 1 Axes>"
      ]
     },
     "metadata": {},
     "output_type": "display_data"
    }
   ],
   "source": [
    "import numpy as np\n",
    "from sklearn.metrics import precision_recall_curve\n",
    "\n",
    "import matplotlib.pyplot as plt\n",
    "\n",
    "# Get different thresholds and their corresponding precision-recall values\n",
    "thresholds = np.linspace(0, 1, 100)\n",
    "precisions_list = []\n",
    "recalls_list = []\n",
    "\n",
    "for threshold in thresholds:\n",
    "    # Convert probabilities to binary predictions based on threshold\n",
    "    predictions = (test_predictions.data[:, 0] > threshold).astype(int)\n",
    "    \n",
    "    # Calculate precision and recall for this threshold\n",
    "    tp = np.sum((predictions == 1) & (test_df['churn'] == 1))\n",
    "    fp = np.sum((predictions == 1) & (test_df['churn'] == 0))\n",
    "    fn = np.sum((predictions == 0) & (test_df['churn'] == 1))\n",
    "    \n",
    "    precision = tp / (tp + fp) if (tp + fp) > 0 else 0\n",
    "    recall = tp / (tp + fn) if (tp + fn) > 0 else 0\n",
    "    \n",
    "    precisions_list.append(precision)\n",
    "    recalls_list.append(recall)\n",
    "\n",
    "# Create the plot\n",
    "plt.figure(figsize=(10, 6))\n",
    "plt.plot(thresholds, precisions_list, label='Precision', color='blue')\n",
    "plt.plot(thresholds, recalls_list, label='Recall', color='red')\n",
    "plt.xlabel('Threshold')\n",
    "plt.ylabel('Score')\n",
    "plt.title('Precision and Recall Scores at Different Thresholds')\n",
    "plt.legend()\n",
    "plt.grid(True)\n",
    "plt.show()"
   ]
  },
  {
   "cell_type": "code",
   "execution_count": null,
   "id": "cd30d4e2",
   "metadata": {},
   "outputs": [],
   "source": []
  },
  {
   "cell_type": "code",
   "execution_count": null,
   "id": "d782469b",
   "metadata": {},
   "outputs": [],
   "source": []
  },
  {
   "cell_type": "code",
   "execution_count": null,
   "id": "ed728f50",
   "metadata": {},
   "outputs": [],
   "source": []
  }
 ],
 "metadata": {
  "kernelspec": {
   "display_name": "env",
   "language": "python",
   "name": "python3"
  },
  "language_info": {
   "codemirror_mode": {
    "name": "ipython",
    "version": 3
   },
   "file_extension": ".py",
   "mimetype": "text/x-python",
   "name": "python",
   "nbconvert_exporter": "python",
   "pygments_lexer": "ipython3",
   "version": "3.12.10"
  }
 },
 "nbformat": 4,
 "nbformat_minor": 5
}
